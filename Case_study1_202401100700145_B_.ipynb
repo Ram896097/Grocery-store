{
  "nbformat": 4,
  "nbformat_minor": 0,
  "metadata": {
    "colab": {
      "provenance": [],
      "authorship_tag": "ABX9TyMdEFwig8o2WMqEjSfAJX7u",
      "include_colab_link": true
    },
    "kernelspec": {
      "name": "python3",
      "display_name": "Python 3"
    },
    "language_info": {
      "name": "python"
    }
  },
  "cells": [
    {
      "cell_type": "markdown",
      "metadata": {
        "id": "view-in-github",
        "colab_type": "text"
      },
      "source": [
        "<a href=\"https://colab.research.google.com/github/Ram896097/Grocery-store/blob/main/Case_study1_202401100700145_B_.ipynb\" target=\"_parent\"><img src=\"https://colab.research.google.com/assets/colab-badge.svg\" alt=\"Open In Colab\"/></a>"
      ]
    },
    {
      "cell_type": "markdown",
      "source": [
        "case study 1: Grocery store Calculator\n"
      ],
      "metadata": {
        "id": "Lz8a7oG4QZw6"
      }
    },
    {
      "cell_type": "code",
      "source": [
        "\n",
        "  print(\"Welcome in the grocery store calculator:\")\n",
        "  print(\"What do you want: \")\n",
        "  print(\"0. End\")\n",
        "  print(\"1. Rice\")\n",
        "  print(\"2. flour\")\n",
        "  print(\"3. Milk\")\n",
        "  print(\"4. Soap\")\n",
        "  print(\"5. Apple\")\n",
        "  print(\"6. Bread\")\n",
        "  print(\"7 .Potato\")\n",
        "  print(\"8. Carrot\")\n",
        "  print(\"9. Tomato\")\n",
        "  print(\"10. Wheat\")\n",
        "  print(\"11. Sugar\")\n",
        "  print(\"12. Oil\")\n",
        "  total_bill = 0\n",
        "  for i in range(100):\n",
        "\n",
        "    print(\"What do you want: \")\n",
        "    a = int(input())\n",
        "    if (a == 0):\n",
        "      print(\"Thank you\")\n",
        "      break;\n",
        "    elif (a == 1):\n",
        "      print(\"How much rice are you want?\")\n",
        "      b = int(input())\n",
        "      total_bill = total_bill + b*50\n",
        "      continue;\n",
        "    elif (a == 2):\n",
        "      print(\"How much flour are you want?\")\n",
        "      b = int(input())\n",
        "      total_bill = total_bill + b*35\n",
        "      continue;\n",
        "    elif (a == 3):\n",
        "      print(\"How much Litre are you want?\")\n",
        "      b = int(input())\n",
        "      total_bill = total_bill + b*60\n",
        "      continue;\n",
        "    elif (a == 4):\n",
        "      print(\"How much packet are you want?\")\n",
        "      b = int(input())\n",
        "      total_bill = total_bill + b*45\n",
        "      continue;\n",
        "    elif (a == 5):\n",
        "      print(\"How much Apple are you want?\")\n",
        "      b = int(input())\n",
        "      total_bill = total_bill + b*140\n",
        "      continue;\n",
        "    elif (a == 6):\n",
        "      print(\"How much Packet are you want?\")\n",
        "      b = int(input())\n",
        "      total_bill = total_bill + b*40\n",
        "      continue;\n",
        "    elif (a == 7):\n",
        "      print(\"How much Potato are you want?\")\n",
        "      b = int(input())\n",
        "      total_bill = total_bill + b*40\n",
        "      continue;\n",
        "    elif (a == 8):\n",
        "      print(\"How much Tomato are you want?\")\n",
        "      b = int(input())\n",
        "      total_bill = total_bill + b*40\n",
        "      continue;\n",
        "    elif (a == 9):\n",
        "      print(\"How much Carrot are you want?\")\n",
        "      b = int(input())\n",
        "      total_bill = total_bill + b*30\n",
        "      continue;\n",
        "    elif (a == 10):\n",
        "      print(\"How much Wheat are you want?\")\n",
        "      b = int(input())\n",
        "      total_bill = total_bill + b*30\n",
        "      continue;\n",
        "    elif (a == 11):\n",
        "      print(\"How much Sugar are you want?\")\n",
        "      b = int(input())\n",
        "      total_bill = total_bill + b*60\n",
        "      continue;\n",
        "    elif (a == 12):\n",
        "      print(\"How much litre Oil are you want?\")\n",
        "      b = int(input())\n",
        "      total_bill = total_bill + b*140\n",
        "      continue;\n",
        "\n",
        "  print(\"total_bill\")\n",
        "  print(\"your total_bill is\",total_bill,Rs)\n",
        "\n",
        "\n",
        "\n",
        "\n"
      ],
      "metadata": {
        "colab": {
          "base_uri": "https://localhost:8080/",
          "height": 0
        },
        "id": "V0hQ_MKzRK8Y",
        "outputId": "ea116fc8-0197-4ecf-aad9-a0ab6ddc7ed6"
      },
      "execution_count": 14,
      "outputs": [
        {
          "output_type": "stream",
          "name": "stdout",
          "text": [
            "Welcome in the grocery store calculator:\n",
            "What do you want: \n",
            "0. End\n",
            "1. Rice\n",
            "2. flour\n",
            "3. Milk\n",
            "4. Soap\n",
            "5. Apple\n",
            "6. Bread\n",
            "7 .Potato\n",
            "8. Carrot\n",
            "9. Tomato\n",
            "10. Wheat\n",
            "11. Sugar\n",
            "12. Oil\n",
            "What do you want: \n",
            "1\n",
            "How much rice are you want?\n",
            "4\n",
            "What do you want: \n",
            "2\n",
            "How much flour are you want?\n",
            "5\n",
            "What do you want: \n",
            "3\n",
            "How much Litre are you want?\n",
            "6\n",
            "What do you want: \n",
            "8\n",
            "How much Tomato are you want?\n",
            "5\n",
            "What do you want: \n",
            "9\n",
            "How much Carrot are you want?\n",
            "12\n",
            "What do you want: \n",
            "0\n",
            "Thank you\n",
            "total_bill\n",
            "your total_bill is'total_bill'\n"
          ]
        }
      ]
    },
    {
      "cell_type": "code",
      "source": [
        "print(\"Your total bill is\",total_bill,\"Rs\")"
      ],
      "metadata": {
        "colab": {
          "base_uri": "https://localhost:8080/",
          "height": 0
        },
        "id": "de7OCiZmeOp8",
        "outputId": "37f0597f-cd35-4de0-fcbb-176ef2d4db4c"
      },
      "execution_count": 15,
      "outputs": [
        {
          "output_type": "stream",
          "name": "stdout",
          "text": [
            "Your total bill is 1295 Rs\n"
          ]
        }
      ]
    },
    {
      "cell_type": "code",
      "source": [],
      "metadata": {
        "id": "etJpXeeriW6c"
      },
      "execution_count": null,
      "outputs": []
    }
  ]
}